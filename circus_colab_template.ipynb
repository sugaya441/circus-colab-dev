{
 "cells": [
  {
   "cell_type": "markdown",
   "metadata": {},
   "source": [
    "# 🎪 Circus Support Tool Colab Template\n",
    "このノートブックは、GitHubから取得した `circus-colab-dev` の src ディレクトリを読み込んで、各モジュールの動作確認・修正を行うためのテンプレートです。"
   ]
  }
 ],
 "metadata": {
  "kernelspec": {
   "display_name": "Python 3",
   "language": "python",
   "name": "python3"
  },
  "language_info": {
   "name": "python",
   "version": ""
  }
 },
 "nbformat": 4,
 "nbformat_minor": 2
}